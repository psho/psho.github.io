{
 "cells": [
  {
   "cell_type": "code",
   "execution_count": 1,
   "metadata": {},
   "outputs": [],
   "source": [
    "from scipy.stats import beta\n",
    "from scipy.optimize import fmin\n",
    "from scipy.special import betaln\n",
    "import numpy as np"
   ]
  },
  {
   "cell_type": "markdown",
   "metadata": {},
   "source": [
    "## Setup"
   ]
  },
  {
   "cell_type": "code",
   "execution_count": 2,
   "metadata": {},
   "outputs": [],
   "source": [
    "# Set up\n",
    "RANDOM_SEED = 888\n",
    "SIM_SIZE = 100000\n",
    "CI_PROB = 0.95\n",
    "\n",
    "success_a = 100\n",
    "total_a = 250\n",
    "success_b = 130\n",
    "total_b = 300"
   ]
  },
  {
   "cell_type": "code",
   "execution_count": 3,
   "metadata": {},
   "outputs": [
    {
     "name": "stdout",
     "output_type": "stream",
     "text": [
      "0.4 0.43333333333333335 0.033333333333333326\n"
     ]
    }
   ],
   "source": [
    "# Success rates\n",
    "rate_a = success_a / total_a\n",
    "rate_b = success_b / total_b\n",
    "\n",
    "print(rate_a, rate_b, rate_b-rate_a)"
   ]
  },
  {
   "cell_type": "code",
   "execution_count": 4,
   "metadata": {},
   "outputs": [
    {
     "name": "stdout",
     "output_type": "stream",
     "text": [
      "101 151 131 171\n"
     ]
    }
   ],
   "source": [
    "# Alpha/Beta parameters\n",
    "alpha_a = success_a + 1\n",
    "beta_a = total_a - success_a + 1\n",
    "alpha_b = success_b + 1\n",
    "beta_b = total_b - success_b + 1\n",
    "\n",
    "print(alpha_a, beta_a, alpha_b, beta_b)"
   ]
  },
  {
   "cell_type": "markdown",
   "metadata": {},
   "source": [
    "## Highest (Posterior) Density Intervals\n",
    "\n",
    "Narrowest interval that captures the 95% of values that are most likely to occur"
   ]
  },
  {
   "cell_type": "code",
   "execution_count": 5,
   "metadata": {},
   "outputs": [],
   "source": [
    "# Find Highest Density Interval from an Inverse Cumulative Distribution Function\n",
    "# Adapted from: Doing Bayesian Data Analysis by John K. Kruschke\n",
    "def hdi_from_icdf(dist_name, ci_prob, **args):\n",
    "    \n",
    "    dist = dist_name(**args)\n",
    "    \n",
    "    def interval_width(low_prob):\n",
    "        return dist.ppf(low_prob+ci_prob) - dist.ppf(low_prob)\n",
    "    \n",
    "    initial_guess = 1.0 - ci_prob\n",
    "    ci_low_prob = fmin(interval_width, initial_guess, ftol=1e-8, disp=False)[0]\n",
    "    \n",
    "    return dist.ppf([ci_low_prob, ci_low_prob+ci_prob])"
   ]
  },
  {
   "cell_type": "code",
   "execution_count": 6,
   "metadata": {},
   "outputs": [
    {
     "name": "stdout",
     "output_type": "stream",
     "text": [
      "[0.34068584 0.46133168] [0.37814769 0.48966612]\n"
     ]
    }
   ],
   "source": [
    "# HDI for A and B\n",
    "hdi_a = hdi_from_icdf(beta, ci_prob=CI_PROB, a=alpha_a, b=beta_a)\n",
    "hdi_b = hdi_from_icdf(beta, ci_prob=CI_PROB, a=alpha_b, b=beta_b)\n",
    "\n",
    "print(hdi_a, hdi_b)"
   ]
  },
  {
   "cell_type": "code",
   "execution_count": 7,
   "metadata": {},
   "outputs": [],
   "source": [
    "# Find Highest Density Interval from a sample\n",
    "# Check all 95% widths and pick the one that is smallest\n",
    "def hdi_from_values(sample, ci_prob):\n",
    "    \n",
    "    sorted_sample = np.sort(sample)\n",
    "    \n",
    "    sample_size = len(sorted_sample)\n",
    "    ci_size = min(int(np.ceil(sample_size*0.95)), sample_size-1)\n",
    "    \n",
    "    num_ci = sample_size - ci_size\n",
    "    ci_widths = np.repeat(0.0, num_ci)\n",
    "    for i in range(num_ci):\n",
    "        ci_widths[i] = sorted_sample[i+ci_size] - sorted_sample[i]\n",
    "        \n",
    "    hdi_low = sorted_sample[ci_widths.argmin()]\n",
    "    hdi_upp = sorted_sample[ci_widths.argmin() + ci_size]\n",
    "    \n",
    "    return [hdi_low, hdi_upp]"
   ]
  },
  {
   "cell_type": "code",
   "execution_count": 8,
   "metadata": {},
   "outputs": [],
   "source": [
    "# Simulate a sample of rate differences\n",
    "diff_sample = beta.rvs(alpha_b, beta_b, size=SIM_SIZE, random_state=RANDOM_SEED) \\\n",
    "                - beta.rvs(alpha_a, beta_a, size=SIM_SIZE, random_state=RANDOM_SEED)"
   ]
  },
  {
   "cell_type": "code",
   "execution_count": 9,
   "metadata": {},
   "outputs": [
    {
     "data": {
      "text/plain": [
       "[-0.040244199794189195, 0.10915908544664593]"
      ]
     },
     "execution_count": 9,
     "metadata": {},
     "output_type": "execute_result"
    }
   ],
   "source": [
    "# HDI for Diff\n",
    "hdi_from_values(diff_sample, ci_prob=CI_PROB)"
   ]
  },
  {
   "cell_type": "markdown",
   "metadata": {
    "collapsed": true
   },
   "source": [
    "## Probability that B is better than A"
   ]
  },
  {
   "cell_type": "code",
   "execution_count": 10,
   "metadata": {},
   "outputs": [],
   "source": [
    "# Probability that B is better than A\n",
    "# http://www.evanmiller.org/bayesian-ab-testing.html#binary_ab\n",
    "def prob_b_beats_a(alpha_a, beta_a, alpha_b, beta_b):\n",
    "    prob = 1.0\n",
    "    for i in range(alpha_a):\n",
    "        prob -= np.exp(betaln(alpha_b+i, beta_b+beta_a) \\\n",
    "                        - np.log(beta_a+i) - betaln(1+i, beta_a) - betaln(alpha_b, beta_b))\n",
    "    return prob"
   ]
  },
  {
   "cell_type": "code",
   "execution_count": 11,
   "metadata": {},
   "outputs": [
    {
     "data": {
      "text/plain": [
       "0.7840958578240851"
      ]
     },
     "execution_count": 11,
     "metadata": {},
     "output_type": "execute_result"
    }
   ],
   "source": [
    "prob_b_winner = prob_b_beats_a(alpha_a, beta_a, alpha_b, beta_b)\n",
    "prob_b_winner"
   ]
  },
  {
   "cell_type": "code",
   "execution_count": 12,
   "metadata": {},
   "outputs": [
    {
     "data": {
      "text/plain": [
       "0.21590414217575646"
      ]
     },
     "execution_count": 12,
     "metadata": {},
     "output_type": "execute_result"
    }
   ],
   "source": [
    "prob_a_winner = prob_b_beats_a(alpha_b, beta_b, alpha_a, beta_a)\n",
    "prob_a_winner"
   ]
  },
  {
   "cell_type": "markdown",
   "metadata": {
    "collapsed": true
   },
   "source": [
    "## Expected loss if we choose B but A is actually better\n",
    "\n",
    "Call a winner when expected loss is below some defined threshold"
   ]
  },
  {
   "cell_type": "code",
   "execution_count": 13,
   "metadata": {},
   "outputs": [],
   "source": [
    "# Expected loss if choose B but A is actually better\n",
    "# https://www.chrisstucchio.com/blog/2014/bayesian_ab_decision_rule.html\n",
    "\n",
    "def expected_loss_b_over_a(alpha_a, beta_a, alpha_b, beta_b):\n",
    "    exp_loss = np.exp(betaln(alpha_a+1, beta_a) - betaln(alpha_a, beta_a) \\\n",
    "                      + np.log(1-prob_b_beats_a(alpha_a+1, beta_a, alpha_b, beta_b))) \\\n",
    "             - np.exp(betaln(alpha_b+1, beta_b) - betaln(alpha_b, beta_b) \\\n",
    "                      + np.log(1-prob_b_beats_a(alpha_a, beta_a, alpha_b+1, beta_b)))\n",
    "    return exp_loss"
   ]
  },
  {
   "cell_type": "code",
   "execution_count": 14,
   "metadata": {},
   "outputs": [
    {
     "data": {
      "text/plain": [
       "0.005185573911307043"
      ]
     },
     "execution_count": 14,
     "metadata": {},
     "output_type": "execute_result"
    }
   ],
   "source": [
    "exp_loss = expected_loss_b_over_a(alpha_a, beta_a, alpha_b, beta_b)\n",
    "exp_loss"
   ]
  },
  {
   "cell_type": "code",
   "execution_count": 15,
   "metadata": {},
   "outputs": [
    {
     "data": {
      "text/plain": [
       "0.03816675755479232"
      ]
     },
     "execution_count": 15,
     "metadata": {},
     "output_type": "execute_result"
    }
   ],
   "source": [
    "exp_uplift = expected_loss_b_over_a(alpha_b, beta_b, alpha_a, beta_a)\n",
    "exp_uplift"
   ]
  },
  {
   "cell_type": "markdown",
   "metadata": {
    "collapsed": true
   },
   "source": [
    "### Alternative numerical method"
   ]
  },
  {
   "cell_type": "code",
   "execution_count": 16,
   "metadata": {},
   "outputs": [],
   "source": [
    "posteriorA = beta.cdf(np.linspace(0.0,0.99,100)+0.01, alpha_a, beta_a)-beta.cdf(np.linspace(0.0,0.99,100), alpha_a, beta_a)\n",
    "posteriorB = beta.cdf(np.linspace(0.0,0.99,100)+0.01, alpha_b, beta_b)-beta.cdf(np.linspace(0.0,0.99,100), alpha_b, beta_b)"
   ]
  },
  {
   "cell_type": "code",
   "execution_count": 17,
   "metadata": {},
   "outputs": [],
   "source": [
    "joint_posterior = np.zeros([100,100])"
   ]
  },
  {
   "cell_type": "code",
   "execution_count": 18,
   "metadata": {},
   "outputs": [],
   "source": [
    "for i in range(100):\n",
    "    for j in range(100):\n",
    "        joint_posterior[i,j] = posteriorA[i] * posteriorB[j]"
   ]
  },
  {
   "cell_type": "code",
   "execution_count": 19,
   "metadata": {},
   "outputs": [
    {
     "data": {
      "text/plain": [
       "0.8166749959983718"
      ]
     },
     "execution_count": 19,
     "metadata": {},
     "output_type": "execute_result"
    }
   ],
   "source": [
    "# Probability we make a mistake by choosing A\n",
    "errorFunctionA = 0.0\n",
    "for i in range(100):\n",
    "    for j in range(i, 100):\n",
    "        errorFunctionA += joint_posterior[i,j]\n",
    "errorFunctionA"
   ]
  },
  {
   "cell_type": "code",
   "execution_count": 20,
   "metadata": {},
   "outputs": [
    {
     "data": {
      "text/plain": [
       "0.183325004001625"
      ]
     },
     "execution_count": 20,
     "metadata": {},
     "output_type": "execute_result"
    }
   ],
   "source": [
    "# Probability we make a mistake by choosing B\n",
    "errorFunctionB = 0.0\n",
    "for i in range(100):\n",
    "    for j in range(0, i):\n",
    "        errorFunctionB += joint_posterior[i,j]\n",
    "errorFunctionB"
   ]
  },
  {
   "cell_type": "code",
   "execution_count": 21,
   "metadata": {},
   "outputs": [],
   "source": [
    "def loss(i, j, var):\n",
    "    if var=='A':\n",
    "        return max(j*0.01 - i*0.01, 0.0)\n",
    "    if var=='B':\n",
    "        return max(i*0.01 - j*0.01, 0.0)"
   ]
  },
  {
   "cell_type": "code",
   "execution_count": 22,
   "metadata": {},
   "outputs": [
    {
     "data": {
      "text/plain": [
       "0.005185573911297853"
      ]
     },
     "execution_count": 22,
     "metadata": {},
     "output_type": "execute_result"
    }
   ],
   "source": [
    "# Expected loss for choosing B and we're wrong\n",
    "lossFunction = 0.0\n",
    "for i in range(100):\n",
    "    for j in range(100):\n",
    "        lossFunction += joint_posterior[i,j] * loss(i,j,'B')\n",
    "lossFunction"
   ]
  },
  {
   "cell_type": "code",
   "execution_count": 23,
   "metadata": {},
   "outputs": [
    {
     "data": {
      "text/plain": [
       "0.038166757554733005"
      ]
     },
     "execution_count": 23,
     "metadata": {},
     "output_type": "execute_result"
    }
   ],
   "source": [
    "# Expected loss for choosing A and we're wrong\n",
    "lossFunction = 0.0\n",
    "for i in range(100):\n",
    "    for j in range(100):\n",
    "        lossFunction += joint_posterior[i,j] * loss(i,j,'A')\n",
    "lossFunction"
   ]
  }
 ],
 "metadata": {
  "kernelspec": {
   "display_name": "Python 3",
   "language": "python",
   "name": "python3"
  },
  "language_info": {
   "codemirror_mode": {
    "name": "ipython",
    "version": 3
   },
   "file_extension": ".py",
   "mimetype": "text/x-python",
   "name": "python",
   "nbconvert_exporter": "python",
   "pygments_lexer": "ipython3",
   "version": "3.7.1"
  }
 },
 "nbformat": 4,
 "nbformat_minor": 2
}
