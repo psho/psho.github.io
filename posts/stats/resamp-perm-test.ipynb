{
 "cells": [
  {
   "cell_type": "code",
   "execution_count": null,
   "metadata": {
    "collapsed": true
   },
   "outputs": [],
   "source": [
    "import pandas as pd\n",
    "import numpy as np\n",
    "import matplotlib.pyplot as plt"
   ]
  },
  {
   "cell_type": "markdown",
   "metadata": {},
   "source": [
    "## Create data"
   ]
  },
  {
   "cell_type": "code",
   "execution_count": 2,
   "metadata": {
    "collapsed": false
   },
   "outputs": [
    {
     "data": {
      "text/html": [
       "<div>\n",
       "<style scoped>\n",
       "    .dataframe tbody tr th:only-of-type {\n",
       "        vertical-align: middle;\n",
       "    }\n",
       "\n",
       "    .dataframe tbody tr th {\n",
       "        vertical-align: top;\n",
       "    }\n",
       "\n",
       "    .dataframe thead th {\n",
       "        text-align: right;\n",
       "    }\n",
       "</style>\n",
       "<table border=\"1\" class=\"dataframe\">\n",
       "  <thead>\n",
       "    <tr style=\"text-align: right;\">\n",
       "      <th></th>\n",
       "      <th>group</th>\n",
       "      <th>value</th>\n",
       "    </tr>\n",
       "  </thead>\n",
       "  <tbody>\n",
       "    <tr>\n",
       "      <th>0</th>\n",
       "      <td>a</td>\n",
       "      <td>84</td>\n",
       "    </tr>\n",
       "    <tr>\n",
       "      <th>1</th>\n",
       "      <td>a</td>\n",
       "      <td>57</td>\n",
       "    </tr>\n",
       "    <tr>\n",
       "      <th>2</th>\n",
       "      <td>a</td>\n",
       "      <td>63</td>\n",
       "    </tr>\n",
       "  </tbody>\n",
       "</table>\n",
       "</div>"
      ],
      "text/plain": [
       "  group  value\n",
       "0     a     84\n",
       "1     a     57\n",
       "2     a     63"
      ]
     },
     "execution_count": 2,
     "metadata": {},
     "output_type": "execute_result"
    }
   ],
   "source": [
    "a = [84, 57, 63, 99, 72, 46, 76, 91]\n",
    "b = [81, 74, 56, 69, 66, 62, 69, 61, 87, 65, 44, 69]\n",
    "group = ['a'] * len(a) + ['b'] * len(b)\n",
    "\n",
    "df = pd.DataFrame({'group': group,\n",
    "                   'value': a + b})\n",
    "\n",
    "df.head(3)"
   ]
  },
  {
   "cell_type": "markdown",
   "metadata": {},
   "source": [
    "## Calculate means\n",
    "Group A has a higher mean than Group B. Is this significant?"
   ]
  },
  {
   "cell_type": "code",
   "execution_count": 3,
   "metadata": {
    "collapsed": false
   },
   "outputs": [
    {
     "name": "stdout",
     "output_type": "stream",
     "text": [
      "Group A mean = 73.5\n",
      "Group B mean = 66.9\n",
      "Mean diff = 6.6\n"
     ]
    }
   ],
   "source": [
    "a_mean = df[df['group']=='a']['value'].mean()\n",
    "b_mean = df[df['group']=='b']['value'].mean()\n",
    "\n",
    "print('Group A mean = %2.1f' % a_mean)\n",
    "print('Group B mean = %2.1f' % b_mean)\n",
    "print('Mean diff = %2.1f' % (a_mean - b_mean))"
   ]
  },
  {
   "cell_type": "markdown",
   "metadata": {},
   "source": [
    "## Permutation test\n",
    "- If we assume null hypothesis, i.e. no difference between groups, then the observed values could have come from either group\n",
    "- Build a distribution of possible mean differences under the null hypothesis by shuffling values between groups"
   ]
  },
  {
   "cell_type": "code",
   "execution_count": 4,
   "metadata": {
    "collapsed": false
   },
   "outputs": [
    {
     "data": {
      "image/png": "[encoded data removed]",
      "text/plain": [
       "<Figure size 432x288 with 1 Axes>"
      ]
     },
     "metadata": {},
     "output_type": "display_data"
    }
   ],
   "source": [
    "np.random.seed(1)\n",
    "\n",
    "num_sim = 10000\n",
    "diff = []\n",
    "\n",
    "for i in range(num_sim):\n",
    "    df['group_shuf'] = np.random.permutation(group)\n",
    "    a_mean = df[df['group_shuf']=='a']['value'].mean()\n",
    "    b_mean = df[df['group_shuf']=='b']['value'].mean()\n",
    "    diff.append(a_mean - b_mean)\n",
    "\n",
    "plt.hist(diff, bins=50)\n",
    "plt.show()"
   ]
  },
  {
   "cell_type": "markdown",
   "metadata": {},
   "source": [
    "## Significance\n",
    "- Using the distribution created we find that 15% of simulated mean differences are 6.6 or above\n",
    "- So we do not reject null hypothesis at p<0.05"
   ]
  },
  {
   "cell_type": "code",
   "execution_count": 5,
   "metadata": {
    "collapsed": false
   },
   "outputs": [
    {
     "name": "stdout",
     "output_type": "stream",
     "text": [
      "p-value = 0.15\n"
     ]
    }
   ],
   "source": [
    "p_val = sum(x >= 6.6 for x in diff) / len(diff)\n",
    "print(\"p-value = %0.2f\" % p_val)"
   ]
  },
  {
   "cell_type": "markdown",
   "metadata": {},
   "source": [
    "Reference:\n",
    "- [Jake Vanderplas - Statistics for Hackers - PyCon 2016](https://www.youtube.com/watch?v=Iq9DzN6mvYA)"
   ]
  }
 ],
 "metadata": {
  "kernelspec": {
   "display_name": "Python 3",
   "language": "python",
   "name": "python3"
  },
  "language_info": {
   "codemirror_mode": {
    "name": "ipython",
    "version": 3
   },
   "file_extension": ".py",
   "mimetype": "text/x-python",
   "name": "python",
   "nbconvert_exporter": "python",
   "pygments_lexer": "ipython3",
   "version": "3.6.5"
  },
  "nikola": {
   "category": "",
   "date": "2018-07-31 22:59:44 UTC+01:00",
   "description": "",
   "link": "",
   "slug": "resamp-perm-test",
   "tags": "",
   "title": "Resampling Permutation Test",
   "type": "text"
  }
 },
 "nbformat": 4,
 "nbformat_minor": 2
}
