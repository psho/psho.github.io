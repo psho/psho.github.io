{
 "cells": [
  {
   "cell_type": "markdown",
   "metadata": {},
   "source": [
    "## OS Interaction"
   ]
  },
  {
   "cell_type": "code",
   "execution_count": 1,
   "metadata": {
    "collapsed": false
   },
   "outputs": [
    {
     "name": "stdout",
     "output_type": "stream",
     "text": [
      "b'/home/pat/miniconda3/bin/python\\n'\n"
     ]
    }
   ],
   "source": [
    "# Run command line programs\n",
    "import subprocess\n",
    "\n",
    "command = ['which', 'python']\n",
    "try:\n",
    "    print(subprocess.check_output(command))\n",
    "except:\n",
    "    print('Could not run command')"
   ]
  },
  {
   "cell_type": "code",
   "execution_count": null,
   "metadata": {
    "collapsed": true
   },
   "outputs": [],
   "source": [
    "# Delete file\n",
    "import os\n",
    "\n",
    "os.remove('file.txt')"
   ]
  }
 ],
 "metadata": {
  "kernelspec": {
   "display_name": "Python 3",
   "language": "python",
   "name": "python3"
  },
  "language_info": {
   "codemirror_mode": {
    "name": "ipython",
    "version": 3
   },
   "file_extension": ".py",
   "mimetype": "text/x-python",
   "name": "python",
   "nbconvert_exporter": "python",
   "pygments_lexer": "ipython3",
   "version": "3.6.5"
  },
  "nikola": {
   "category": "",
   "date": "2018-07-27 23:16:00 UTC+01:00",
   "description": "",
   "link": "",
   "slug": "python-os-interaction",
   "tags": "",
   "title": "Python: OS Interaction",
   "type": "text"
  }
 },
 "nbformat": 4,
 "nbformat_minor": 2
}
