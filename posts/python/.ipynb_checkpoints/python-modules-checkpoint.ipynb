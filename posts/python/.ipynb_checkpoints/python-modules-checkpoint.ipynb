{
 "cells": [
  {
   "cell_type": "markdown",
   "metadata": {},
   "source": [
    "## Modules\n",
    "- To create own module, save code with .py extension"
   ]
  },
  {
   "cell_type": "code",
   "execution_count": null,
   "metadata": {
    "collapsed": true
   },
   "outputs": [],
   "source": [
    "# Import module, reference using module name\n",
    "import sys\n",
    "\n",
    "# Import module, reference using another name\n",
    "import pandas as pd\n",
    "\n",
    "# Import only parts of module\n",
    "from sklearn import datasets\n",
    "\n",
    "# Append module location path if it doesn't exist\n",
    "if '/module_directory' not in sys.path:\n",
    "    sys.path.append('/module_directory')"
   ]
  }
 ],
 "metadata": {
  "kernelspec": {
   "display_name": "Python 3",
   "language": "python",
   "name": "python3"
  },
  "language_info": {
   "codemirror_mode": {
    "name": "ipython",
    "version": 3
   },
   "file_extension": ".py",
   "mimetype": "text/x-python",
   "name": "python",
   "nbconvert_exporter": "python",
   "pygments_lexer": "ipython3",
   "version": "3.6.5"
  },
  "nikola": {
   "category": "",
   "date": "2018-07-27 23:16:00 UTC+01:00",
   "description": "",
   "link": "",
   "slug": "python-modules",
   "tags": "",
   "title": "Python: Modules",
   "type": "text"
  }
 },
 "nbformat": 4,
 "nbformat_minor": 2
}
