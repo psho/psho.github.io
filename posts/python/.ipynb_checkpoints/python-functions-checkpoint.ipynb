{
 "cells": [
  {
   "cell_type": "markdown",
   "metadata": {},
   "source": [
    "## Functions\n",
    "- Variables defined within function are not available outside function\n",
    "- Variables within function overrides global variables of same name"
   ]
  },
  {
   "cell_type": "code",
   "execution_count": 1,
   "metadata": {
    "collapsed": false,
    "scrolled": true
   },
   "outputs": [
    {
     "data": {
      "text/plain": [
       "6"
      ]
     },
     "execution_count": 1,
     "metadata": {},
     "output_type": "execute_result"
    }
   ],
   "source": [
    "def multiplyByTwo(val):\n",
    "    result = val * 2\n",
    "    return result\n",
    "\n",
    "multiplyByTwo(3)"
   ]
  },
  {
   "cell_type": "markdown",
   "metadata": {},
   "source": [
    "## Main Function\n",
    "- If running script as main:\n",
    "  - \\_\\_name\\_\\_ will be set to \\_\\_main\\_\\_\n",
    "  - Following code will execute\n",
    "- If importing as module:\n",
    "  - \\_\\_name\\_\\_ will be something else\n",
    "  - Following code will not execute"
   ]
  },
  {
   "cell_type": "code",
   "execution_count": null,
   "metadata": {
    "collapsed": false,
    "scrolled": false
   },
   "outputs": [],
   "source": [
    "# Basic\n",
    "def main():\n",
    "    # code\n",
    "\n",
    "if __name__ == \"__main__\":\n",
    "    main()"
   ]
  },
  {
   "cell_type": "code",
   "execution_count": null,
   "metadata": {
    "collapsed": true,
    "scrolled": true
   },
   "outputs": [],
   "source": [
    "# With arguments - argv[0] refers to python script, argv[1] is first argument etc.\n",
    "import sys\n",
    "\n",
    "def main(argv):\n",
    "    print(str(argv))\n",
    "\n",
    "if __name__ == \"__main__\":\n",
    "    main(sys.argv)"
   ]
  }
 ],
 "metadata": {
  "kernelspec": {
   "display_name": "Python 3",
   "language": "python",
   "name": "python3"
  },
  "language_info": {
   "codemirror_mode": {
    "name": "ipython",
    "version": 3
   },
   "file_extension": ".py",
   "mimetype": "text/x-python",
   "name": "python",
   "nbconvert_exporter": "python",
   "pygments_lexer": "ipython3",
   "version": "3.6.5"
  },
  "nikola": {
   "category": "",
   "date": "2018-07-27 23:16:00 UTC+01:00",
   "description": "",
   "link": "",
   "slug": "python-functions",
   "tags": "",
   "title": "Python: Functions",
   "type": "text"
  }
 },
 "nbformat": 4,
 "nbformat_minor": 2
}
