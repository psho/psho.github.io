{
 "cells": [
  {
   "cell_type": "markdown",
   "metadata": {},
   "source": [
    "## Create"
   ]
  },
  {
   "cell_type": "code",
   "execution_count": null,
   "metadata": {
    "collapsed": true
   },
   "outputs": [],
   "source": [
    "a_string = 'abc'\n",
    "b_string = 'xyz'\n",
    "\n",
    "# Convert to string\n",
    "c_string = str(2.1)"
   ]
  },
  {
   "cell_type": "markdown",
   "metadata": {},
   "source": [
    "## Inspect"
   ]
  },
  {
   "cell_type": "code",
   "execution_count": null,
   "metadata": {
    "collapsed": false
   },
   "outputs": [],
   "source": [
    "# Number of characters in string\n",
    "len(a_string)\n",
    "\n",
    "# Check if all characters...\n",
    "a_string.isalpha()  # are alphabetic\n",
    "a_string.isdigit()  # are digits\n",
    "a_string.isalnum()  # are alphanumeric\n",
    "a_string.islower()  # are lowercase, ignores digits/punctuation\n",
    "a_string.isupper()  # are uppercase, ignores digits/punctuation\n",
    "a_string.isspace()  # are whitespaces, includes \\n and \\t\n",
    "a_string.istitle()  # are titlecased, i.e. first letter of each word is cap\n",
    "\n",
    "# Unique strings only\n",
    "string_list.unique()"
   ]
  },
  {
   "cell_type": "markdown",
   "metadata": {},
   "source": [
    "## Find substrings"
   ]
  },
  {
   "cell_type": "code",
   "execution_count": null,
   "metadata": {
    "collapsed": false
   },
   "outputs": [],
   "source": [
    "# Number of substring occurrences\n",
    "a_string.count('sub')\n",
    "\n",
    "# Position of substring\n",
    "a_string.index('sub')  # returns ValueError if not found\n",
    "a_string.find('sub')   # same, but returns -1 if not found\n",
    "\n",
    "# Check if starts/ends with substring\n",
    "a_string.startswith('sub')\n",
    "a_string.startswith(('foo', 'bar'))  # can specify tuple of possible matches\n",
    "a_string.endswith('sub')\n",
    "\n",
    "# Replace substrings\n",
    "a_string.replace('old', 'new')\n",
    "a_string.replace('old', 'new', 3)  # replace first 3 occurrences only"
   ]
  },
  {
   "cell_type": "markdown",
   "metadata": {},
   "source": [
    "## Cleaning"
   ]
  },
  {
   "cell_type": "code",
   "execution_count": null,
   "metadata": {
    "collapsed": false
   },
   "outputs": [],
   "source": [
    "# Convert all characters to upper/lowercase\n",
    "a_string.upper()\n",
    "a_string.lower()\n",
    "\n",
    "# Remove leading and trailing characters\n",
    "a_string.strip()       # whitespace\n",
    "a_string.strip('ab ')  # remove leading/trailing 'a', 'b', ' '"
   ]
  },
  {
   "cell_type": "markdown",
   "metadata": {},
   "source": [
    "## Combining"
   ]
  },
  {
   "cell_type": "code",
   "execution_count": null,
   "metadata": {
    "collapsed": false
   },
   "outputs": [],
   "source": [
    "# Concatenate\n",
    "a_string + ' ' + b_string\n",
    "\n",
    "# Join up a list/tuple/string with specified separator in between\n",
    "sep = '-'\n",
    "list1 = ['aaa', 'bbb', 'ccc']\n",
    "a_string = 'Hello World!'\n",
    "sep.join(list1)    # 'aaa-bbb-ccc'\n",
    "sep.join(a_string)  # 'H-e-l-l-o- -W-o-r-l-d-!'"
   ]
  },
  {
   "cell_type": "markdown",
   "metadata": {},
   "source": [
    "## Splitting"
   ]
  },
  {
   "cell_type": "code",
   "execution_count": null,
   "metadata": {
    "collapsed": false
   },
   "outputs": [],
   "source": [
    "# Split up string into a list of substrings\n",
    "a_string.split()        # use space as separator\n",
    "a_string.split(',')     # use comma as separator\n",
    "a_string.split(' ', 2)  # use space as separator, only first 2 splits\n",
    "\n",
    "# Split up string by lines\n",
    "a_string.splitlines()               # use line breaks as separator\n",
    "a_string.splitlines(keepends=True)  # keep line break characters"
   ]
  }
 ],
 "metadata": {
  "kernelspec": {
   "display_name": "Python 3",
   "language": "python",
   "name": "python3"
  },
  "language_info": {
   "codemirror_mode": {
    "name": "ipython",
    "version": 3
   },
   "file_extension": ".py",
   "mimetype": "text/x-python",
   "name": "python",
   "nbconvert_exporter": "python",
   "pygments_lexer": "ipython3",
   "version": "3.6.5"
  },
  "nikola": {
   "category": "",
   "date": "2018-07-27 23:16:00 UTC+01:00",
   "description": "",
   "link": "",
   "slug": "python-strings",
   "tags": "",
   "title": "Python: Strings",
   "type": "text"
  }
 },
 "nbformat": 4,
 "nbformat_minor": 2
}
