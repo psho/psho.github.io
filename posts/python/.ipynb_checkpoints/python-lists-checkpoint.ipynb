{
 "cells": [
  {
   "cell_type": "markdown",
   "metadata": {},
   "source": [
    "## Create"
   ]
  },
  {
   "cell_type": "code",
   "execution_count": null,
   "metadata": {
    "collapsed": true
   },
   "outputs": [],
   "source": [
    "# Init empty list\n",
    "empty_list = []\n",
    "\n",
    "# Init list with values\n",
    "a_list = [5, 10, 15, 20, 25, 30, 35, 40, 45, 'dog']"
   ]
  },
  {
   "cell_type": "markdown",
   "metadata": {},
   "source": [
    "## Inspect"
   ]
  },
  {
   "cell_type": "code",
   "execution_count": null,
   "metadata": {
    "collapsed": true
   },
   "outputs": [],
   "source": [
    "# Number of items in list\n",
    "len(a_list)\n",
    "\n",
    "# Check if item is in list\n",
    "'a' in a_list\n",
    "any(x in a_list for x in ['a', 'b'])  # check if any items in list\n",
    "all(x in a_list for x in ['a', 'b'])  # check if all items in list"
   ]
  },
  {
   "cell_type": "markdown",
   "metadata": {},
   "source": [
    "## Access"
   ]
  },
  {
   "cell_type": "code",
   "execution_count": null,
   "metadata": {
    "collapsed": true
   },
   "outputs": [],
   "source": [
    "# Access single item\n",
    "a_list[0]      # first item\n",
    "a_list[-2]     # second last item\n",
    "\n",
    "# Access slice of items\n",
    "a_list[:3]     # first 3 items\n",
    "a_list[4:]     # 5th item until last\n",
    "a_list[-3:]    # last 3 items\n",
    "a_list[2:6]    # items at index 2 to 5 (6-1)\n",
    "a_list[2:8:2]  # index steps of 2"
   ]
  },
  {
   "cell_type": "markdown",
   "metadata": {},
   "source": [
    "## Adding to the list"
   ]
  },
  {
   "cell_type": "code",
   "execution_count": null,
   "metadata": {
    "collapsed": true
   },
   "outputs": [],
   "source": [
    "# Add item to end of list\n",
    "a_list.append('a')\n",
    "\n",
    "# Insert item to a specified index position\n",
    "a_list.insert(3, 'a')"
   ]
  },
  {
   "cell_type": "markdown",
   "metadata": {},
   "source": [
    "## Edit items in the list"
   ]
  },
  {
   "cell_type": "code",
   "execution_count": null,
   "metadata": {
    "collapsed": true
   },
   "outputs": [],
   "source": [
    "# Overwrite existing item\n",
    "a_list[10] = 1000\n",
    "\n",
    "# Assignment creates reference, not a copy!\n",
    "a = [1,2,3]\n",
    "b = a\n",
    "a[0] = 99  # both a[0] and b[0] will be 99"
   ]
  },
  {
   "cell_type": "markdown",
   "metadata": {},
   "source": [
    "## Remove items from the list"
   ]
  },
  {
   "cell_type": "code",
   "execution_count": null,
   "metadata": {
    "collapsed": true
   },
   "outputs": [],
   "source": [
    "# Remove item from list by index\n",
    "del a_list[0]    # delete first item\n",
    "del a_list[3:5]  # delete items at index 3 to 5\n",
    "\n",
    "# Remove item from list by value\n",
    "a_list.remove('a')\n",
    "\n",
    "# Retrieve item from list and remove it\n",
    "a_list.pop()   # last item\n",
    "a_list.pop(2)  # item at index 2"
   ]
  },
  {
   "cell_type": "markdown",
   "metadata": {},
   "source": [
    "## Sort"
   ]
  },
  {
   "cell_type": "code",
   "execution_count": null,
   "metadata": {
    "collapsed": false
   },
   "outputs": [],
   "source": [
    "# Sort list in-place\n",
    "a_list.sort()              # default ascending\n",
    "a_list.sort(reverse=True)  # descending\n",
    "\n",
    "# Sort into new list and retain original unsorted list\n",
    "new_list = sorted(orig_list)\n",
    "\n",
    "# Reverse order\n",
    "a_list.reverse()"
   ]
  },
  {
   "cell_type": "markdown",
   "metadata": {},
   "source": [
    "## Combine"
   ]
  },
  {
   "cell_type": "code",
   "execution_count": null,
   "metadata": {
    "collapsed": true
   },
   "outputs": [],
   "source": [
    "# Concatenate\n",
    "a_list + b_list\n",
    "a_list.extend(b_list)  # alternative method, will update a_list\n",
    "\n",
    "# Duplicate and append\n",
    "a_list * 3  # i.e. a_list + a_list + a_list"
   ]
  }
 ],
 "metadata": {
  "kernelspec": {
   "display_name": "Python 3",
   "language": "python",
   "name": "python3"
  },
  "language_info": {
   "codemirror_mode": {
    "name": "ipython",
    "version": 3
   },
   "file_extension": ".py",
   "mimetype": "text/x-python",
   "name": "python",
   "nbconvert_exporter": "python",
   "pygments_lexer": "ipython3",
   "version": "3.6.5"
  },
  "nikola": {
   "category": "",
   "date": "2018-07-27 23:16:00 UTC+01:00",
   "description": "",
   "link": "",
   "slug": "python-lists",
   "tags": "",
   "title": "Python: Lists",
   "type": "text"
  }
 },
 "nbformat": 4,
 "nbformat_minor": 2
}
