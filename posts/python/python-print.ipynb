{
 "cells": [
  {
   "cell_type": "markdown",
   "metadata": {},
   "source": [
    "## Print"
   ]
  },
  {
   "cell_type": "code",
   "execution_count": 1,
   "metadata": {
    "collapsed": false
   },
   "outputs": [
    {
     "name": "stdout",
     "output_type": "stream",
     "text": [
      "Hello world!\n",
      "Helloworld!\n",
      "Line 1\n",
      "Line 2\n",
      "Line 3\n",
      "\\n \\t\n",
      "String is Test, Integer is   123, Float is 3.14\n",
      "String is Test, Integer is   123, Float is 3.14\n"
     ]
    }
   ],
   "source": [
    "print('Hello', 'world!')  # adds space by default\n",
    "\n",
    "print('Hello', 'world!', sep='')  # no space between\n",
    "\n",
    "print('''Line 1\n",
    "Line 2\n",
    "Line 3''')  # triple quotes to use multiple lines\n",
    "\n",
    "print(r'\\n \\t')  # raw string, doesn't interpret escape characters\n",
    "\n",
    "# Formatting with %\n",
    "print('String is %s, Integer is %5d, Float is %4.2f' % ('Test', 123, 3.14159))\n",
    "\n",
    "# Formatting with format() - {index:format}\n",
    "print('String is {0:s}, Integer is {1:5d}, Float is {2:4.2f}'.format('Test', 123, 3.14159))"
   ]
  }
 ],
 "metadata": {
  "kernelspec": {
   "display_name": "Python 3",
   "language": "python",
   "name": "python3"
  },
  "language_info": {
   "codemirror_mode": {
    "name": "ipython",
    "version": 3
   },
   "file_extension": ".py",
   "mimetype": "text/x-python",
   "name": "python",
   "nbconvert_exporter": "python",
   "pygments_lexer": "ipython3",
   "version": "3.6.5"
  },
  "nikola": {
   "category": "",
   "date": "2018-07-27 23:16:00 UTC+01:00",
   "description": "",
   "link": "",
   "slug": "python-print",
   "tags": "",
   "title": "Python: Print",
   "type": "text"
  }
 },
 "nbformat": 4,
 "nbformat_minor": 2
}
