{
 "cells": [
  {
   "cell_type": "markdown",
   "metadata": {},
   "source": [
    "## Error Handling\n",
    "- List of error types: https://docs.python.org/3/library/exceptions.html"
   ]
  },
  {
   "cell_type": "code",
   "execution_count": 1,
   "metadata": {
    "collapsed": false
   },
   "outputs": [
    {
     "name": "stdout",
     "output_type": "stream",
     "text": [
      "Enter numerator: 1\n",
      "Enter denominator: 0\n",
      "Divide by zero\n"
     ]
    }
   ],
   "source": [
    "try:\n",
    "    numerator = int(input('Enter numerator: '))\n",
    "    denominator = int(input('Enter denominator: '))\n",
    "    result = numerator/denominator\n",
    "    print(result)\n",
    "except ValueError:\n",
    "    print('No value entered')\n",
    "except ZeroDivisionError:\n",
    "    print('Divide by zero')\n",
    "except Exception as e:\n",
    "    print('Other error: ', e)"
   ]
  }
 ],
 "metadata": {
  "kernelspec": {
   "display_name": "Python 3",
   "language": "python",
   "name": "python3"
  },
  "language_info": {
   "codemirror_mode": {
    "name": "ipython",
    "version": 3
   },
   "file_extension": ".py",
   "mimetype": "text/x-python",
   "name": "python",
   "nbconvert_exporter": "python",
   "pygments_lexer": "ipython3",
   "version": "3.6.5"
  },
  "nikola": {
   "category": "",
   "date": "2018-07-27 23:16:00 UTC+01:00",
   "description": "",
   "link": "",
   "slug": "python-error-handling",
   "tags": "",
   "title": "Python: Error Handling",
   "type": "text"
  }
 },
 "nbformat": 4,
 "nbformat_minor": 2
}
