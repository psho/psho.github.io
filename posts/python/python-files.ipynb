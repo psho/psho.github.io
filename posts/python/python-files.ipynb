{
 "cells": [
  {
   "cell_type": "markdown",
   "metadata": {},
   "source": [
    "## Reading\n",
    "- 'r' reading\n",
    "- 'r+' reading and writing\n",
    "- 'rb' read binary file"
   ]
  },
  {
   "cell_type": "code",
   "execution_count": null,
   "metadata": {
    "collapsed": true
   },
   "outputs": [],
   "source": [
    "# Reading line by line\n",
    "f = open('file.txt', 'r')\n",
    "\n",
    "line1 = f.readline()  # read a line, append \\n, move pointer to next line\n",
    "line2 = f.readline()\n",
    "line3 = f.readline()\n",
    "\n",
    "f.close()\n",
    "\n",
    "\n",
    "# Reading lines with for loop\n",
    "f = open('file.txt', 'r')\n",
    "\n",
    "for line in f:\n",
    "    print(line)\n",
    "\n",
    "f.close()\n",
    "\n",
    "\n",
    "# Reading files with set buffer size\n",
    "f = open('file.txt', 'r')\n",
    "\n",
    "while len(buf)>0:\n",
    "    buf = f.read(20)  # 20 bytes at a time\n",
    "    \n",
    "f.close()"
   ]
  },
  {
   "cell_type": "markdown",
   "metadata": {},
   "source": [
    "## Writing\n",
    "- 'w' writing, creates/overwrites\n",
    "- 'a' appending, creates/appends\n",
    "- 'wb' write binary file"
   ]
  },
  {
   "cell_type": "code",
   "execution_count": null,
   "metadata": {
    "collapsed": true
   },
   "outputs": [],
   "source": [
    "# Writing line by line\n",
    "f = open('file.txt', 'a')\n",
    "\n",
    "f.write('Line 1\\n')\n",
    "f.write('Line 2\\n')\n",
    "\n",
    "f.close()"
   ]
  },
  {
   "cell_type": "markdown",
   "metadata": {},
   "source": [
    "## Deleting"
   ]
  },
  {
   "cell_type": "code",
   "execution_count": null,
   "metadata": {
    "collapsed": false
   },
   "outputs": [],
   "source": [
    "remove('file.txt')"
   ]
  },
  {
   "cell_type": "markdown",
   "metadata": {},
   "source": [
    "## Renaming"
   ]
  },
  {
   "cell_type": "code",
   "execution_count": null,
   "metadata": {
    "collapsed": true
   },
   "outputs": [],
   "source": [
    "rename('old.txt', 'new.txt')"
   ]
  },
  {
   "cell_type": "markdown",
   "metadata": {},
   "source": [
    "## OS Commands"
   ]
  },
  {
   "cell_type": "code",
   "execution_count": null,
   "metadata": {
    "collapsed": true
   },
   "outputs": [],
   "source": [
    "import os\n",
    "\n",
    "# Check if file already exists\n",
    "if os.path.exists('file.txt'):\n",
    "    print('File exists!')\n",
    "else:\n",
    "    print('File does not exist!')"
   ]
  }
 ],
 "metadata": {
  "kernelspec": {
   "display_name": "Python 3",
   "language": "python",
   "name": "python3"
  },
  "language_info": {
   "codemirror_mode": {
    "name": "ipython",
    "version": 3
   },
   "file_extension": ".py",
   "mimetype": "text/x-python",
   "name": "python",
   "nbconvert_exporter": "python",
   "pygments_lexer": "ipython3",
   "version": "3.6.5"
  },
  "nikola": {
   "category": "",
   "date": "2018-07-27 23:16:00 UTC+01:00",
   "description": "",
   "link": "",
   "slug": "python-files",
   "tags": "",
   "title": "Python: Files",
   "type": "text"
  }
 },
 "nbformat": 4,
 "nbformat_minor": 2
}
