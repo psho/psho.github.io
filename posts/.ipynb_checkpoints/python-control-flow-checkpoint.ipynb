{
 "cells": [
  {
   "cell_type": "markdown",
   "metadata": {},
   "source": [
    "# Conditional Logic"
   ]
  },
  {
   "cell_type": "code",
   "execution_count": 2,
   "metadata": {},
   "outputs": [
    {
     "name": "stdout",
     "output_type": "stream",
     "text": [
      "2\n"
     ]
    }
   ],
   "source": [
    "val = 2\n",
    "\n",
    "#  If statement\n",
    "if val == 1:\n",
    "    print('1')\n",
    "elif val == 2:\n",
    "    print('2')\n",
    "else:\n",
    "    print('Else')"
   ]
  },
  {
   "cell_type": "code",
   "execution_count": null,
   "metadata": {},
   "outputs": [],
   "source": []
  }
 ],
 "metadata": {
  "kernelspec": {
   "display_name": "Python 3",
   "language": "python",
   "name": "python3"
  },
  "language_info": {
   "codemirror_mode": {
    "name": "ipython",
    "version": 3
   },
   "file_extension": ".py",
   "mimetype": "text/x-python",
   "name": "python",
   "nbconvert_exporter": "python",
   "pygments_lexer": "ipython3",
   "version": "3.6.5"
  },
  "nikola": {
   "category": "",
   "date": "2018-07-24 23:16:45 UTC+01:00",
   "description": "",
   "link": "",
   "slug": "python-control-flow",
   "tags": "",
   "title": "Python: Control Flow",
   "type": "text"
  }
 },
 "nbformat": 4,
 "nbformat_minor": 2
}
