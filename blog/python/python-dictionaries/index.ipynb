{
 "cells": [
  {
   "cell_type": "markdown",
   "metadata": {},
   "source": [
    "## Create"
   ]
  },
  {
   "cell_type": "code",
   "execution_count": null,
   "metadata": {
    "collapsed": true
   },
   "outputs": [],
   "source": [
    "# Init empty dictionary\n",
    "empty_dict = {}\n",
    "\n",
    "# Init dictionary with key:value pairs\n",
    "a_dict = {'Alice':30, 'Bob':35, 'Chris':28, 'Dave':'N/A'}\n",
    "\n",
    "# Init dictionary using dict()\n",
    "a_dict = dict(Alice=30, Bob=35, Chris=28, Dave='N/A')"
   ]
  },
  {
   "cell_type": "markdown",
   "metadata": {},
   "source": [
    "## Inspect"
   ]
  },
  {
   "cell_type": "code",
   "execution_count": null,
   "metadata": {
    "collapsed": true
   },
   "outputs": [],
   "source": [
    "# Number of key-value pairs in dictionary\n",
    "len(a_dict)\n",
    "\n",
    "# Check if key is in dictionary\n",
    "'a' in a_dict\n",
    "any(x in a_dict for x in ['a', 'b'])  # check if any items in dictionary\n",
    "all(x in a_dict for x in ['a', 'b'])  # check if all items in dictionary\n",
    "\n",
    "# Check if value is in dictionary\n",
    "'a' in a_dict.values()\n",
    "\n",
    "# List of keys\n",
    "a_dict.keys()\n",
    "\n",
    "# List of values\n",
    "a_dict.values()\n",
    "\n",
    "# List of key-value pairs (as tuples)\n",
    "a_dict.items()"
   ]
  },
  {
   "cell_type": "markdown",
   "metadata": {},
   "source": [
    "## Access"
   ]
  },
  {
   "cell_type": "code",
   "execution_count": null,
   "metadata": {
    "collapsed": false
   },
   "outputs": [],
   "source": [
    "# Lookup single value by key\n",
    "a_dict['Bob']\n",
    "a_dict.get('Frank')               # returns None\n",
    "a_dict.get('Frank', 'Not Found')  # returns 'Not Found'"
   ]
  },
  {
   "cell_type": "markdown",
   "metadata": {},
   "source": [
    "## Add items to the dictionary"
   ]
  },
  {
   "cell_type": "code",
   "execution_count": null,
   "metadata": {
    "collapsed": true
   },
   "outputs": [],
   "source": [
    "# Add new item\n",
    "a_dict['Ed'] = 49"
   ]
  },
  {
   "cell_type": "markdown",
   "metadata": {},
   "source": [
    "## Edit items in the dictionary"
   ]
  },
  {
   "cell_type": "code",
   "execution_count": null,
   "metadata": {
    "collapsed": true
   },
   "outputs": [],
   "source": [
    "# Edit existing item\n",
    "a_dict['Dave'] = 42\n",
    "\n",
    "# Assignment creates reference, not a copy!\n",
    "a_dict = {'a':1, 'b':2, 'c':3}\n",
    "b_dict = a_dict\n",
    "a_dict['a'] = 99  # both values for 'a' and 'b' will be 99"
   ]
  },
  {
   "cell_type": "markdown",
   "metadata": {},
   "source": [
    "## Remove items from the dictionary"
   ]
  },
  {
   "cell_type": "code",
   "execution_count": null,
   "metadata": {
    "collapsed": true
   },
   "outputs": [],
   "source": [
    "# Delete item\n",
    "del a_dict['Alice']\n",
    "\n",
    "# Remove all items leaving empty dictionary\n",
    "a_dict.clear()\n",
    "\n",
    "# Delete dictionary\n",
    "del a_dict"
   ]
  },
  {
   "cell_type": "markdown",
   "metadata": {},
   "source": [
    "## Sort\n",
    "Dictionaries have no order, can either:\n",
    "- Create a sorted representation as a list\n",
    "- Use OrderedDict"
   ]
  },
  {
   "cell_type": "code",
   "execution_count": null,
   "metadata": {
    "collapsed": false
   },
   "outputs": [],
   "source": [
    "import operator\n",
    "import collections\n",
    "\n",
    "# Sorted by value, represent as a list of tuples\n",
    "a_dict = {'a':3, 'b':5, 'c':2, 'd':8}\n",
    "a_dict_sorted = sorted(a_dict.items(), key=operator.itemgetter(1))\n",
    "\n",
    "# Store as OrderedDict\n",
    "a_dict_ordered = collections.OrderedDict(a_dict_sorted)"
   ]
  },
  {
   "cell_type": "markdown",
   "metadata": {},
   "source": [
    "## Combine"
   ]
  },
  {
   "cell_type": "code",
   "execution_count": null,
   "metadata": {
    "collapsed": true
   },
   "outputs": [],
   "source": [
    "# Add a dictionaries key-value pairs to another with dupes removed\n",
    "a_dict.update(dict2)"
   ]
  }
 ],
 "metadata": {
  "kernelspec": {
   "display_name": "Python 3",
   "language": "python",
   "name": "python3"
  },
  "language_info": {
   "codemirror_mode": {
    "name": "ipython",
    "version": 3
   },
   "file_extension": ".py",
   "mimetype": "text/x-python",
   "name": "python",
   "nbconvert_exporter": "python",
   "pygments_lexer": "ipython3",
   "version": "3.6.5"
  },
  "nikola": {
   "category": "",
   "date": "2018-07-27 23:16:00 UTC+01:00",
   "description": "",
   "link": "",
   "slug": "python-dictionaries",
   "tags": "",
   "title": "Python: Dictionaries",
   "type": "text"
  }
 },
 "nbformat": 4,
 "nbformat_minor": 2
}
