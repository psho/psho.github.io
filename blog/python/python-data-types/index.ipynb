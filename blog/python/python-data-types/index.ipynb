{
 "cells": [
  {
   "cell_type": "markdown",
   "metadata": {},
   "source": [
    "## Integers and Floats"
   ]
  },
  {
   "cell_type": "code",
   "execution_count": null,
   "metadata": {
    "collapsed": false
   },
   "outputs": [],
   "source": [
    "x = 5\n",
    "y = 2.3\n",
    "\n",
    "# Basic operations\n",
    "x + y\n",
    "x - y\n",
    "x * y\n",
    "x / y\n",
    "x // y  # floor division\n",
    "x % y   # modulus remainder\n",
    "x ** y  # exponent\n",
    "x += 1  # increment by 1\n",
    "x -= 1  # decrement by 1\n",
    "\n",
    "# Convert to integer\n",
    "int(3.14159)\n",
    "int('4')\n",
    "\n",
    "# Convert to float\n",
    "float(2)\n",
    "float('3.14159')"
   ]
  },
  {
   "cell_type": "markdown",
   "metadata": {},
   "source": [
    "## Strings\n",
    "Can use either single ' ' or double \" \" quotes as long as you're consistent"
   ]
  },
  {
   "cell_type": "code",
   "execution_count": null,
   "metadata": {
    "collapsed": false
   },
   "outputs": [],
   "source": [
    "a_string = 'abc'\n",
    "\n",
    "# Convert to string\n",
    "str(2.1)"
   ]
  },
  {
   "cell_type": "markdown",
   "metadata": {},
   "source": [
    "## Lists [ ]\n",
    "- Collection of items\n",
    "- Doesn't have to all be same data type."
   ]
  },
  {
   "cell_type": "code",
   "execution_count": null,
   "metadata": {
    "collapsed": true
   },
   "outputs": [],
   "source": [
    "# Init list with values\n",
    "a_list = [5, 10, 15, 20, 25, 30, 35, 40, 45, 'dog']"
   ]
  },
  {
   "cell_type": "markdown",
   "metadata": {},
   "source": [
    "## Tuples ( )\n",
    "Similar to lists, but can't modify values."
   ]
  },
  {
   "cell_type": "code",
   "execution_count": null,
   "metadata": {
    "collapsed": false
   },
   "outputs": [],
   "source": [
    "# Init tuple with values\n",
    "a_tuple = (5, 10, 15, 20, 25, 30, 35, 40, 45, 'dog')\n",
    "\n",
    "# Access items like list, using square brackets []\n",
    "a_tuple[0]\n",
    "\n",
    "# Can't edit items\n",
    "a_tuple[0] = 99  # This will not work!"
   ]
  },
  {
   "cell_type": "markdown",
   "metadata": {},
   "source": [
    "## Dictionaries { }\n",
    "- Collection of data pairs\n",
    "- Keys must be unique\n",
    "- Keys are not stored in order"
   ]
  },
  {
   "cell_type": "code",
   "execution_count": null,
   "metadata": {
    "collapsed": false
   },
   "outputs": [],
   "source": [
    "# Init dictionary with key:value pairs\n",
    "a_dict = {'Alice':30, 'Bob':35, 'Chris':28, 'Dave':'N/A'}"
   ]
  }
 ],
 "metadata": {
  "kernelspec": {
   "display_name": "Python 3",
   "language": "python",
   "name": "python3"
  },
  "language_info": {
   "codemirror_mode": {
    "name": "ipython",
    "version": 3
   },
   "file_extension": ".py",
   "mimetype": "text/x-python",
   "name": "python",
   "nbconvert_exporter": "python",
   "pygments_lexer": "ipython3",
   "version": "3.6.5"
  },
  "nikola": {
   "category": "",
   "date": "2018-07-27 23:12:00 UTC+01:00",
   "description": "",
   "link": "",
   "slug": "python-data-types",
   "tags": "",
   "title": "Python: Data Types",
   "type": "text"
  }
 },
 "nbformat": 4,
 "nbformat_minor": 2
}
